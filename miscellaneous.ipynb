{
 "cells": [
  {
   "cell_type": "code",
   "execution_count": 1,
   "id": "initial_id",
   "metadata": {
    "collapsed": true,
    "ExecuteTime": {
     "end_time": "2023-09-14T05:52:52.581274300Z",
     "start_time": "2023-09-14T05:52:52.509515700Z"
    }
   },
   "outputs": [
    {
     "name": "stdout",
     "output_type": "stream",
     "text": [
      "hello world\n"
     ]
    }
   ],
   "source": [
    "print(\"hello world\")"
   ]
  },
  {
   "cell_type": "code",
   "execution_count": 2,
   "outputs": [
    {
     "name": "stdout",
     "output_type": "stream",
     "text": [
      "1 2 3 4 5 "
     ]
    }
   ],
   "source": [
    "t=(1,2,3,4,5)\n",
    "for i in t:\n",
    "    print(i,end=\" \")"
   ],
   "metadata": {
    "collapsed": false,
    "ExecuteTime": {
     "end_time": "2023-09-14T05:53:36.636838700Z",
     "start_time": "2023-09-14T05:53:36.145399Z"
    }
   },
   "id": "c1b65dd800bf7be3"
  },
  {
   "cell_type": "code",
   "execution_count": 3,
   "outputs": [
    {
     "name": "stdout",
     "output_type": "stream",
     "text": [
      "3000\n"
     ]
    }
   ],
   "source": [
    "def f1(x,y):\n",
    "    return x+y\n",
    "def f2(f1,a,b):\n",
    "    sum=f1(a,b)\n",
    "    print(sum)\n",
    "f2(f1,1000,2000)\n"
   ],
   "metadata": {
    "collapsed": false,
    "ExecuteTime": {
     "end_time": "2023-09-14T05:56:39.876534400Z",
     "start_time": "2023-09-14T05:56:39.832745200Z"
    }
   },
   "id": "46140bd7fe66a5c"
  },
  {
   "cell_type": "code",
   "execution_count": null,
   "outputs": [],
   "source": [],
   "metadata": {
    "collapsed": false
   },
   "id": "a9aea9d76c213089"
  },
  {
   "cell_type": "code",
   "execution_count": 8,
   "outputs": [
    {
     "name": "stdout",
     "output_type": "stream",
     "text": [
      "in first func1\n",
      "lambda function 50\n"
     ]
    }
   ],
   "source": [
    "def func1(a,b):\n",
    "    print(\"in first func1\")\n",
    "    return lambda:a+b\n",
    "lamda_fn=func1(20,30)\n",
    "print(\"lambda function\",lamda_fn())"
   ],
   "metadata": {
    "collapsed": false,
    "ExecuteTime": {
     "end_time": "2023-09-14T06:03:38.602591800Z",
     "start_time": "2023-09-14T06:03:38.572550200Z"
    }
   },
   "id": "e58a00f9caa70b39"
  },
  {
   "cell_type": "code",
   "execution_count": 16,
   "outputs": [],
   "source": [
    "def func1(l):\n",
    "    s=0\n",
    "    for i in l:\n",
    "        s+=e(i)\n",
    "    print(s)\n"
   ],
   "metadata": {
    "collapsed": false,
    "ExecuteTime": {
     "end_time": "2023-09-14T06:16:08.603604Z",
     "start_time": "2023-09-14T06:16:08.590808100Z"
    }
   },
   "id": "cec9a0468dbd0927"
  },
  {
   "cell_type": "code",
   "execution_count": 19,
   "outputs": [
    {
     "data": {
      "text/plain": "367"
     },
     "execution_count": 19,
     "metadata": {},
     "output_type": "execute_result"
    }
   ],
   "source": [
    "add=lambda x,y:x+y\n",
    "\n",
    "(add(243,124))"
   ],
   "metadata": {
    "collapsed": false,
    "ExecuteTime": {
     "end_time": "2023-09-14T06:18:41.569259200Z",
     "start_time": "2023-09-14T06:18:41.559564300Z"
    }
   },
   "id": "cfd9b5093197f4fe"
  },
  {
   "cell_type": "code",
   "execution_count": 20,
   "outputs": [
    {
     "data": {
      "text/plain": "367"
     },
     "execution_count": 20,
     "metadata": {},
     "output_type": "execute_result"
    }
   ],
   "source": [
    "add=lambda x,y:x+y\n",
    "\n",
    "(add(243,124))"
   ],
   "metadata": {
    "collapsed": false,
    "ExecuteTime": {
     "end_time": "2023-09-14T06:18:51.865633400Z",
     "start_time": "2023-09-14T06:18:51.822386100Z"
    }
   },
   "id": "e5986382b8acd2d4"
  },
  {
   "cell_type": "code",
   "execution_count": 22,
   "outputs": [
    {
     "name": "stdout",
     "output_type": "stream",
     "text": [
      "1020\n"
     ]
    }
   ],
   "source": [
    "sub=lambda x,y:x*y*34\n",
    "print(sub(5,6))"
   ],
   "metadata": {
    "collapsed": false,
    "ExecuteTime": {
     "end_time": "2023-09-14T06:19:36.637362900Z",
     "start_time": "2023-09-14T06:19:36.604651500Z"
    }
   },
   "id": "34b36dad425867de"
  },
  {
   "cell_type": "code",
   "execution_count": 25,
   "outputs": [
    {
     "name": "stdout",
     "output_type": "stream",
     "text": [
      "[{'name': 'rohit', 'age': 23}, {'name': 'hello', 'age': 34}, {'name': 'abc', 'age': 34}]\n"
     ]
    }
   ],
   "source": [
    "people=[{'name':'rohit' , 'age':23},{'name':'hello','age':34},{'name':'abc','age':34}]\n",
    "sort_array=sorted(people,key=lambda person:person['age'])\n",
    "print(sort_array)"
   ],
   "metadata": {
    "collapsed": false,
    "ExecuteTime": {
     "end_time": "2023-09-14T06:23:55.713958500Z",
     "start_time": "2023-09-14T06:23:55.698555500Z"
    }
   },
   "id": "545092af3f3b16e2"
  },
  {
   "cell_type": "code",
   "execution_count": 3,
   "outputs": [
    {
     "name": "stdout",
     "output_type": "stream",
     "text": [
      "rohit !@124]rohit\n"
     ]
    }
   ],
   "source": [
    "s1=input(\"enter something\")\n",
    "s2=\"rohit\"\n",
    "s1+s2\n",
    "print(s1+s2)"
   ],
   "metadata": {
    "collapsed": false,
    "ExecuteTime": {
     "end_time": "2023-09-14T06:55:16.332397800Z",
     "start_time": "2023-09-14T06:55:08.382481800Z"
    }
   },
   "id": "ac8103e48f5553c2"
  },
  {
   "cell_type": "code",
   "execution_count": 4,
   "outputs": [
    {
     "ename": "NameError",
     "evalue": "name 'l' is not defined",
     "output_type": "error",
     "traceback": [
      "\u001B[1;31m---------------------------------------------------------------------------\u001B[0m",
      "\u001B[1;31mNameError\u001B[0m                                 Traceback (most recent call last)",
      "Cell \u001B[1;32mIn[4], line 1\u001B[0m\n\u001B[1;32m----> 1\u001B[0m \u001B[38;5;28;01mfor\u001B[39;00m x \u001B[38;5;129;01min\u001B[39;00m \u001B[38;5;28mrange\u001B[39m(\u001B[43ml\u001B[49m,l1):\n\u001B[0;32m      2\u001B[0m     \u001B[38;5;28mprint\u001B[39m(\u001B[38;5;28mrepr\u001B[39m(x)\u001B[38;5;241m.\u001B[39mljust(\u001B[38;5;241m5\u001B[39m),\u001B[38;5;28mrepr\u001B[39m(x\u001B[38;5;241m*\u001B[39mx)\u001B[38;5;241m.\u001B[39mljust(\u001B[38;5;241m5\u001B[39m)\n\u001B[0;32m      3\u001B[0m           )\n",
      "\u001B[1;31mNameError\u001B[0m: name 'l' is not defined"
     ]
    }
   ],
   "source": [
    "for x in range(l,l1):\n",
    "    print(repr(x).ljust(5),repr(x*x).ljust(5)\n",
    "          )"
   ],
   "metadata": {
    "collapsed": false,
    "ExecuteTime": {
     "end_time": "2023-09-14T07:08:51.473424800Z",
     "start_time": "2023-09-14T07:08:50.632928200Z"
    }
   },
   "id": "8e4db145c7a0da97"
  },
  {
   "cell_type": "code",
   "execution_count": 5,
   "outputs": [
    {
     "name": "stdout",
     "output_type": "stream",
     "text": [
      "HELLOhelloWORLD\n"
     ]
    }
   ],
   "source": [
    "print(\"{}hello{}\".format(\"HELLO\",\"WORLD\"))"
   ],
   "metadata": {
    "collapsed": false,
    "ExecuteTime": {
     "end_time": "2023-09-14T07:09:23.163989Z",
     "start_time": "2023-09-14T07:09:23.124468700Z"
    }
   },
   "id": "db2babd911492cda"
  },
  {
   "cell_type": "code",
   "execution_count": 1,
   "outputs": [
    {
     "data": {
      "text/plain": "'t'"
     },
     "execution_count": 1,
     "metadata": {},
     "output_type": "execute_result"
    }
   ],
   "source": [
    "max(\"rohit\")"
   ],
   "metadata": {
    "collapsed": false,
    "ExecuteTime": {
     "end_time": "2023-09-14T16:05:58.634295100Z",
     "start_time": "2023-09-14T16:05:58.620813500Z"
    }
   },
   "id": "31904af4467c56c"
  },
  {
   "cell_type": "code",
   "execution_count": 2,
   "outputs": [
    {
     "data": {
      "text/plain": "'t'"
     },
     "execution_count": 2,
     "metadata": {},
     "output_type": "execute_result"
    }
   ],
   "source": [
    "max(\"Trohit\")"
   ],
   "metadata": {
    "collapsed": false,
    "ExecuteTime": {
     "end_time": "2023-09-14T16:06:06.622915900Z",
     "start_time": "2023-09-14T16:06:06.556009800Z"
    }
   },
   "id": "445bc059b4215770"
  },
  {
   "cell_type": "code",
   "execution_count": 3,
   "outputs": [
    {
     "data": {
      "text/plain": "'a'"
     },
     "execution_count": 3,
     "metadata": {},
     "output_type": "execute_result"
    }
   ],
   "source": [
    "max(\"Aa\")#it returns the character with highest ascii value"
   ],
   "metadata": {
    "collapsed": false,
    "ExecuteTime": {
     "end_time": "2023-09-14T16:06:37.241025700Z",
     "start_time": "2023-09-14T16:06:37.160006600Z"
    }
   },
   "id": "5ab2a284c6ec65e5"
  },
  {
   "cell_type": "code",
   "execution_count": 5,
   "outputs": [
    {
     "name": "stdout",
     "output_type": "stream",
     "text": [
      "5\n"
     ]
    }
   ],
   "source": [
    "a=10\n",
    "b=5\n",
    "#this is a simple AND Bitwise operation \n",
    "#it returns the final here it will be 0000\n",
    "print(a & b)"
   ],
   "metadata": {
    "collapsed": false,
    "ExecuteTime": {
     "end_time": "2023-09-14T16:10:29.372829100Z",
     "start_time": "2023-09-14T16:10:29.345310Z"
    }
   },
   "id": "3abc55c29f0f3907"
  },
  {
   "cell_type": "code",
   "execution_count": 9,
   "outputs": [
    {
     "name": "stdout",
     "output_type": "stream",
     "text": [
      "5\n"
     ]
    }
   ],
   "source": [
    "a=10\n",
    "b=5\n",
    "print(a and b)\n",
    "#In general, when using and, if both operands are \"truthy,\" it returns the second operand. If any operand is \"falsy,\" it returns the first falsy operand."
   ],
   "metadata": {
    "collapsed": false,
    "ExecuteTime": {
     "end_time": "2023-09-14T16:12:41.573377100Z",
     "start_time": "2023-09-14T16:12:41.551861200Z"
    }
   },
   "id": "7c79bf5737ba3454"
  },
  {
   "cell_type": "code",
   "execution_count": 19,
   "outputs": [
    {
     "name": "stdout",
     "output_type": "stream",
     "text": [
      "7.7\n"
     ]
    }
   ],
   "source": [
    "j=23\n",
    "b=3\n",
    "print(round((j/b),1))"
   ],
   "metadata": {
    "collapsed": false,
    "ExecuteTime": {
     "end_time": "2023-09-14T16:15:01.045346300Z",
     "start_time": "2023-09-14T16:15:01.030696100Z"
    }
   },
   "id": "aba71ce3e14678a0"
  },
  {
   "cell_type": "code",
   "execution_count": 23,
   "outputs": [
    {
     "data": {
      "text/plain": "7510.276944563768"
     },
     "execution_count": 23,
     "metadata": {},
     "output_type": "execute_result"
    }
   ],
   "source": [
    "3**8.123"
   ],
   "metadata": {
    "collapsed": false,
    "ExecuteTime": {
     "end_time": "2023-09-14T16:15:58.179628Z",
     "start_time": "2023-09-14T16:15:58.149356600Z"
    }
   },
   "id": "8d0d6cfedf5fd6c"
  },
  {
   "cell_type": "code",
   "execution_count": 26,
   "outputs": [
    {
     "data": {
      "text/plain": "0"
     },
     "execution_count": 26,
     "metadata": {},
     "output_type": "execute_result"
    }
   ],
   "source": [
    "(12%3)#this returns the remainder "
   ],
   "metadata": {
    "collapsed": false,
    "ExecuteTime": {
     "end_time": "2023-09-14T16:16:46.495043300Z",
     "start_time": "2023-09-14T16:16:46.481039600Z"
    }
   },
   "id": "b1e39d352b2b8de0"
  },
  {
   "cell_type": "code",
   "execution_count": 30,
   "outputs": [
    {
     "name": "stdout",
     "output_type": "stream",
     "text": [
      "world\n"
     ]
    }
   ],
   "source": [
    "k={10:\"zrohit\",5:\"hello \",10:\"world\"}\n",
    "print(k[10])\n",
    "#In Python dictionaries, keys must be unique. When you create a dictionary with duplicate keys, only the last occurrence of each key-value pair is stored"
   ],
   "metadata": {
    "collapsed": false,
    "ExecuteTime": {
     "end_time": "2023-09-14T16:18:32.604822700Z",
     "start_time": "2023-09-14T16:18:32.586729400Z"
    }
   },
   "id": "d6142b82eb1051eb"
  },
  {
   "cell_type": "code",
   "execution_count": 34,
   "outputs": [
    {
     "name": "stdout",
     "output_type": "stream",
     "text": [
      "{'rohit': 'gupta', 1: 'hello', 2: 'world'}\n"
     ]
    }
   ],
   "source": [
    "d={}\n",
    "d.update({'rohit':'gupta'})\n",
    "d.update({1:'hello'})\n",
    "d.update({2:'world'})\n",
    "print(d)\n"
   ],
   "metadata": {
    "collapsed": false,
    "ExecuteTime": {
     "end_time": "2023-09-14T16:21:31.038722200Z",
     "start_time": "2023-09-14T16:21:31.007183900Z"
    }
   },
   "id": "c0024c1a97a8bbff"
  },
  {
   "cell_type": "code",
   "execution_count": 35,
   "outputs": [],
   "source": [
    "list1=[1,31,1231,523,123]\n",
    "list1.append(1234)"
   ],
   "metadata": {
    "collapsed": false,
    "ExecuteTime": {
     "end_time": "2023-09-14T16:22:23.091097800Z",
     "start_time": "2023-09-14T16:22:23.044800200Z"
    }
   },
   "id": "9bf314f150d1c58"
  },
  {
   "cell_type": "code",
   "execution_count": 36,
   "outputs": [
    {
     "name": "stdout",
     "output_type": "stream",
     "text": [
      "[1, 31, 1231, 523, 123, 1234]\n"
     ]
    }
   ],
   "source": [
    "print(list1)"
   ],
   "metadata": {
    "collapsed": false,
    "ExecuteTime": {
     "end_time": "2023-09-14T16:22:27.136144600Z",
     "start_time": "2023-09-14T16:22:27.105112300Z"
    }
   },
   "id": "bca9816e2aae8685"
  },
  {
   "cell_type": "code",
   "execution_count": 37,
   "outputs": [
    {
     "name": "stdout",
     "output_type": "stream",
     "text": [
      "{'`': 'rohit', '2': 'gupta'}\n"
     ]
    }
   ],
   "source": [
    "v={}\n",
    "l=int(input(\"enter the range of the numbers\"))\n",
    "for i in range(l):\n",
    "    key=input(\"enter key\")\n",
    "    value=input(\"enter value\")\n",
    "    v.update({key:value})\n",
    "print(v)"
   ],
   "metadata": {
    "collapsed": false,
    "ExecuteTime": {
     "end_time": "2023-09-14T16:26:08.777241800Z",
     "start_time": "2023-09-14T16:25:59.890975Z"
    }
   },
   "id": "1ccb8dab08ba38b2"
  },
  {
   "cell_type": "code",
   "execution_count": 38,
   "outputs": [
    {
     "name": "stdout",
     "output_type": "stream",
     "text": [
      "{'rohit': ['11', '12345'], 'gupta': ['1`2', '`245`3']}\n"
     ]
    }
   ],
   "source": [
    "d={}\n",
    "l=int(input(\"enter the length or the range\"))\n",
    "for i in range(l):\n",
    "    name=input(\"ente the name \")\n",
    "    roll=input(\"enter the roll number\")\n",
    "    marks=input(\"enter the marks of the student\")\n",
    "    key=[roll,marks]\n",
    "    d.update({name:key})\n",
    "print(d)\n"
   ],
   "metadata": {
    "collapsed": false,
    "ExecuteTime": {
     "end_time": "2023-09-14T16:28:59.294991300Z",
     "start_time": "2023-09-14T16:28:47.759912Z"
    }
   },
   "id": "9b8daf1c484eae50"
  },
  {
   "cell_type": "code",
   "execution_count": 39,
   "outputs": [
    {
     "name": "stdout",
     "output_type": "stream",
     "text": [
      "0\n",
      "1\n",
      "3\n",
      "4\n",
      "5\n"
     ]
    }
   ],
   "source": [
    "for i in range(6):\n",
    "    if i==2:\n",
    "        continue\n",
    "    print(i)"
   ],
   "metadata": {
    "collapsed": false,
    "ExecuteTime": {
     "end_time": "2023-09-14T16:31:24.322713200Z",
     "start_time": "2023-09-14T16:31:24.259474Z"
    }
   },
   "id": "c50fca42b8438a74"
  },
  {
   "cell_type": "code",
   "execution_count": 41,
   "outputs": [
    {
     "name": "stdout",
     "output_type": "stream",
     "text": [
      "p\n",
      "y\n",
      "t\n",
      "passed\n",
      "o\n",
      "n\n"
     ]
    }
   ],
   "source": [
    "for i in \"python\":\n",
    "    if i==\"h\":\n",
    "        print(\"passed\")\n",
    "        continue\n",
    "    print(i)"
   ],
   "metadata": {
    "collapsed": false,
    "ExecuteTime": {
     "end_time": "2023-09-14T16:32:10.751259600Z",
     "start_time": "2023-09-14T16:32:10.714468200Z"
    }
   },
   "id": "988554fda37fd99a"
  },
  {
   "cell_type": "code",
   "execution_count": 43,
   "outputs": [
    {
     "name": "stdout",
     "output_type": "stream",
     "text": [
      "name= rohit ,age= 13\n"
     ]
    }
   ],
   "source": [
    "def display(name,age):\n",
    "    print(\"name=\",name,\",age=\", age)\n",
    "display('rohit',13)\n",
    "    "
   ],
   "metadata": {
    "collapsed": false,
    "ExecuteTime": {
     "end_time": "2023-09-14T16:33:57.161795800Z",
     "start_time": "2023-09-14T16:33:57.122251200Z"
    }
   },
   "id": "1c3f99593ed577dc"
  },
  {
   "cell_type": "code",
   "execution_count": 44,
   "outputs": [
    {
     "name": "stdout",
     "output_type": "stream",
     "text": [
      "name= rohit ,age= 12\n"
     ]
    }
   ],
   "source": [
    "display(age=12,name=\"rohit\")"
   ],
   "metadata": {
    "collapsed": false,
    "ExecuteTime": {
     "end_time": "2023-09-14T16:34:41.059591100Z",
     "start_time": "2023-09-14T16:34:41.004143900Z"
    }
   },
   "id": "bb4fd205ac658d5c"
  },
  {
   "cell_type": "code",
   "execution_count": 51,
   "outputs": [
    {
     "name": "stdout",
     "output_type": "stream",
     "text": [
      "10 20   30 40 "
     ]
    }
   ],
   "source": [
    "#The code you provided defines a Python function called variable that accepts a variable number of arguments using the *vartuple syntax. This means you can pass any number of arguments to the variable function, and they will be collected into a tuple named vartuple\n",
    "def variable(*varituple):\n",
    "    for i in varituple:\n",
    "        print(i,end=\" \")\n",
    "variable(10,20,\" \",30,40)"
   ],
   "metadata": {
    "collapsed": false,
    "ExecuteTime": {
     "end_time": "2023-09-14T16:40:15.885203Z",
     "start_time": "2023-09-14T16:40:15.838599500Z"
    }
   },
   "id": "8d0d85b431fe3aae"
  },
  {
   "cell_type": "code",
   "execution_count": 52,
   "outputs": [
    {
     "name": "stdout",
     "output_type": "stream",
     "text": [
      "local 10\n",
      "global 20\n"
     ]
    }
   ],
   "source": [
    "def show():\n",
    "    b=10\n",
    "    print(\"local\",b)\n",
    "show()\n",
    "b=20\n",
    "print(\"global\",b)"
   ],
   "metadata": {
    "collapsed": false,
    "ExecuteTime": {
     "end_time": "2023-09-14T16:40:51.115533100Z",
     "start_time": "2023-09-14T16:40:51.059321700Z"
    }
   },
   "id": "e8877b5e4833c46e"
  },
  {
   "cell_type": "code",
   "execution_count": 55,
   "outputs": [
    {
     "name": "stdout",
     "output_type": "stream",
     "text": [
      "25\n"
     ]
    }
   ],
   "source": [
    "#now lambda funtions\n",
    "square=lambda x:x*x\n",
    "print(square(5))"
   ],
   "metadata": {
    "collapsed": false,
    "ExecuteTime": {
     "end_time": "2023-09-14T16:42:19.026469Z",
     "start_time": "2023-09-14T16:42:18.980240600Z"
    }
   },
   "id": "a62f2f0ca3417480"
  },
  {
   "cell_type": "code",
   "execution_count": 57,
   "outputs": [
    {
     "name": "stdout",
     "output_type": "stream",
     "text": [
      "32468\n"
     ]
    }
   ],
   "source": [
    "y=lambda a,b:a+b#y is the function name and we simply do y(a,b) in the required operation in the main\n",
    "print(y(3,32465))"
   ],
   "metadata": {
    "collapsed": false,
    "ExecuteTime": {
     "end_time": "2023-09-14T16:42:57.541043900Z",
     "start_time": "2023-09-14T16:42:57.513045600Z"
    }
   },
   "id": "4a470729c8c1a949"
  },
  {
   "cell_type": "code",
   "execution_count": 58,
   "outputs": [],
   "source": [
    "#tuples are immutable in nature\n",
    "#dict are mutable in nature\n",
    "#list are also mutable \n",
    "#strings are immutable\n"
   ],
   "metadata": {
    "collapsed": false,
    "ExecuteTime": {
     "end_time": "2023-09-14T16:45:49.920350600Z",
     "start_time": "2023-09-14T16:45:49.849339500Z"
    }
   },
   "id": "25b0749d165446df"
  },
  {
   "cell_type": "code",
   "execution_count": 63,
   "outputs": [
    {
     "ename": "SyntaxError",
     "evalue": "invalid syntax (2887236844.py, line 2)",
     "output_type": "error",
     "traceback": [
      "\u001B[1;36m  Cell \u001B[1;32mIn[63], line 2\u001B[1;36m\u001B[0m\n\u001B[1;33m    squared=list(map(lambda x:x***3,numbers))\u001B[0m\n\u001B[1;37m                                 ^\u001B[0m\n\u001B[1;31mSyntaxError\u001B[0m\u001B[1;31m:\u001B[0m invalid syntax\n"
     ]
    }
   ],
   "source": [
    "numbers=[1,3,4,5,6]\n",
    "squared=list(map(lambda x:x**3,numbers))\n",
    "print(squared)"
   ],
   "metadata": {
    "collapsed": false,
    "ExecuteTime": {
     "end_time": "2023-09-14T16:48:01.712718200Z",
     "start_time": "2023-09-14T16:48:01.681368600Z"
    }
   },
   "id": "7629ca34abde2e87"
  },
  {
   "cell_type": "code",
   "execution_count": 64,
   "outputs": [
    {
     "name": "stdout",
     "output_type": "stream",
     "text": [
      "[1, 4, 9, 16, 25]\n"
     ]
    }
   ],
   "source": [
    "def square(x):\n",
    "    return x**2\n",
    "numbers=[1,2,3,4,5]\n",
    "squared=map(square,numbers)\n",
    "squared_list=list(squared)\n",
    "print(squared_list)"
   ],
   "metadata": {
    "collapsed": false,
    "ExecuteTime": {
     "end_time": "2023-09-14T16:53:19.305979800Z",
     "start_time": "2023-09-14T16:53:19.247195600Z"
    }
   },
   "id": "d1b772e46fe7a39"
  },
  {
   "cell_type": "markdown",
   "source": [
    "print(\"hello world\")    "
   ],
   "metadata": {
    "collapsed": false
   },
   "id": "377b40b7e4f56cf2"
  },
  {
   "cell_type": "code",
   "execution_count": null,
   "outputs": [],
   "source": [],
   "metadata": {
    "collapsed": false
   },
   "id": "ba27d9b51848ed4d"
  },
  {
   "cell_type": "code",
   "execution_count": null,
   "outputs": [],
   "source": [],
   "metadata": {
    "collapsed": false
   },
   "id": "9b3610fa6d72a28"
  },
  {
   "cell_type": "code",
   "execution_count": 1,
   "outputs": [
    {
     "name": "stdout",
     "output_type": "stream",
     "text": [
      "Minimum number of steps to measure 2 liters: 4\n"
     ]
    }
   ],
   "source": [
    "from collections import deque\n",
    "\n",
    "# Node representing the state of water in the jugs\n",
    "class Node:\n",
    "    def __init__(self, x, y, steps):\n",
    "        self.x = x  # Water in jug X\n",
    "        self.y = y  # Water in jug Y\n",
    "        self.steps = steps  # Steps taken so far\n",
    "\n",
    "# Function to check if a state is valid\n",
    "def is_valid(x, y, x_cap, y_cap):\n",
    "    return 0 <= x <= x_cap and 0 <= y <= y_cap\n",
    "\n",
    "# Function to perform BFS to solve the water jug problem\n",
    "def bfs_water_jug(x_cap, y_cap, target):\n",
    "    visited = set()\n",
    "    queue = deque([Node(0, 0, 0)])  # Initialize with initial state (0, 0)\n",
    "    visited.add((0, 0))\n",
    "\n",
    "    while queue:\n",
    "        current_node = queue.popleft()\n",
    "\n",
    "        if current_node.x == target or current_node.y == target:\n",
    "            return current_node.steps\n",
    "\n",
    "        # Fill jug X\n",
    "        if (x_cap, current_node.y) not in visited:\n",
    "            queue.append(Node(x_cap, current_node.y, current_node.steps + 1))\n",
    "            visited.add((x_cap, current_node.y))\n",
    "\n",
    "        # Fill jug Y\n",
    "        if (current_node.x, y_cap) not in visited:\n",
    "            queue.append(Node(current_node.x, y_cap, current_node.steps + 1))\n",
    "            visited.add((current_node.x, y_cap))\n",
    "\n",
    "        # Empty jug X\n",
    "        if (0, current_node.y) not in visited:\n",
    "            queue.append(Node(0, current_node.y, current_node.steps + 1))\n",
    "            visited.add((0, current_node.y))\n",
    "\n",
    "        # Empty jug Y\n",
    "        if (current_node.x, 0) not in visited:\n",
    "            queue.append(Node(current_node.x, 0, current_node.steps + 1))\n",
    "            visited.add((current_node.x, 0))\n",
    "\n",
    "        # Pour water from X to Y\n",
    "        pour_to_y = min(current_node.x, y_cap - current_node.y)\n",
    "        if (current_node.x - pour_to_y, current_node.y + pour_to_y) not in visited:\n",
    "            queue.append(Node(current_node.x - pour_to_y, current_node.y + pour_to_y, current_node.steps + 1))\n",
    "            visited.add((current_node.x - pour_to_y, current_node.y + pour_to_y))\n",
    "\n",
    "        # Pour water from Y to X\n",
    "        pour_to_x = min(current_node.y, x_cap - current_node.x)\n",
    "        if (current_node.x + pour_to_x, current_node.y - pour_to_x) not in visited:\n",
    "            queue.append(Node(current_node.x + pour_to_x, current_node.y - pour_to_x, current_node.steps + 1))\n",
    "            visited.add((current_node.x + pour_to_x, current_node.y - pour_to_x))\n",
    "\n",
    "    return -1  # No solution found\n",
    "\n",
    "# Example usage\n",
    "if __name__ == \"__main__\":\n",
    "    x_capacity = 4  # Capacity of jug X\n",
    "    y_capacity = 3  # Capacity of jug Y\n",
    "    target_amount = 2  # Target amount of water\n",
    "\n",
    "    steps = bfs_water_jug(x_capacity, y_capacity, target_amount)\n",
    "\n",
    "    if steps != -1:\n",
    "        print(f\"Minimum number of steps to measure {target_amount} liters: {steps}\")\n",
    "    else:\n",
    "        print(\"Target amount cannot be measured with the given jug capacities.\")\n"
   ],
   "metadata": {
    "collapsed": false,
    "ExecuteTime": {
     "end_time": "2023-10-16T18:01:36.069639Z",
     "start_time": "2023-10-16T18:01:36.050406800Z"
    }
   },
   "id": "9a9f3ea18573a87f"
  },
  {
   "cell_type": "code",
   "execution_count": null,
   "outputs": [],
   "source": [],
   "metadata": {
    "collapsed": false
   },
   "id": "1156d73027c53421"
  }
 ],
 "metadata": {
  "kernelspec": {
   "display_name": "Python 3",
   "language": "python",
   "name": "python3"
  },
  "language_info": {
   "codemirror_mode": {
    "name": "ipython",
    "version": 2
   },
   "file_extension": ".py",
   "mimetype": "text/x-python",
   "name": "python",
   "nbconvert_exporter": "python",
   "pygments_lexer": "ipython2",
   "version": "2.7.6"
  }
 },
 "nbformat": 4,
 "nbformat_minor": 5
}
